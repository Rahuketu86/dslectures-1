{
 "cells": [
  {
   "cell_type": "markdown",
   "metadata": {},
   "source": [
    "# Lesson 10 - Dimensions and visualisation\n",
    "\n",
    "> Introduction to dimensionality reduction and visualisation."
   ]
  },
  {
   "cell_type": "markdown",
   "metadata": {},
   "source": [
    "In this lecture we will have a look at dimension reduction and data visualisation. When we look at the feature vector of a dataset it can contain many features and each feature corresponds to its own dimension. In the first part of the notebook we will explore a method to reduce the dimensionality of a dataset. In the second part we will look at a an algorithm to extract information from high-dimensional data and display it's structure in two dimensions. Both these methods fall into the cateogory of unsupersvised algorithms."
   ]
  },
  {
   "cell_type": "markdown",
   "metadata": {},
   "source": [
    "## Part 1: Principal component analysis\n",
    "\n",
    "First we have a look at a method to reduce the dimensions of a dataset. There are two main reasons why we would like to reduce the dimensionality of such datasets:\n",
    "\n",
    "1. Some machine learning algorithms struggle with high dimensional data.\n",
    "2. It is hard to visualize high dimensional data. In practice it is hard to visualise datasets that have more than two or three dimensions.\n",
    "\n",
    "There is one very common approach to reduce the dimensionality of data: the principal component analysis (PCA). The idea is that not all axis contain the same amount of variance and that ther are even combination of axis that contain most variance. PCA seeks to find new coordinate axis such that the variance along the axis is maximised and ordered (the first principal component conatains most variance)."
   ]
  },
  {
   "cell_type": "code",
   "execution_count": null,
   "metadata": {},
   "outputs": [],
   "source": [
    "# dalineplotrangling\n",
    "import pandas as pd\n",
    "import numpy as np\n",
    "from dslectures.core import get_dataset, convert_strings_to_categories, rmse, fill_missing_values_with_median\n",
    "from pathlib import Path\n",
    "from tqdm import tqdm\n",
    "\n",
    "# data viz\n",
    "import matplotlib.pyplot as plt\n",
    "import seaborn as sns\n",
    "\n",
    "sns.set(color_codes=True)\n",
    "sns.set_palette(sns.color_palette(\"muted\"))\n",
    "\n",
    "# ml magic\n",
    "from sklearn.model_selection import train_test_split\n",
    "from sklearn.ensemble import RandomForestRegressor\n",
    "from sklearn.metrics import r2_score\n",
    "from sklearn.preprocessing import StandardScaler\n",
    "from sklearn.decomposition import PCA\n",
    "from sklearn.model_selection import cross_validate\n",
    "\n",
    "#dslecture\n",
    "from dslectures.core import rmse"
   ]
  },
  {
   "cell_type": "markdown",
   "metadata": {},
   "source": [
    "### Load the data\n",
    "We will use the processed housing dataset for the principal component analysis. First we have to load it."
   ]
  },
  {
   "cell_type": "code",
   "execution_count": null,
   "metadata": {},
   "outputs": [
    {
     "name": "stdout",
     "output_type": "stream",
     "text": [
      "Dataset already exists at '../data/housing_processed.csv' and is not downloaded again.\n"
     ]
    }
   ],
   "source": [
    "get_dataset('housing_processed.csv')"
   ]
  },
  {
   "cell_type": "code",
   "execution_count": null,
   "metadata": {},
   "outputs": [],
   "source": [
    "data_path = Path('../data/')"
   ]
  },
  {
   "cell_type": "code",
   "execution_count": null,
   "metadata": {},
   "outputs": [],
   "source": [
    "housing_data = pd.read_csv(data_path/'housing_processed.csv')"
   ]
  },
  {
   "cell_type": "code",
   "execution_count": null,
   "metadata": {},
   "outputs": [
    {
     "data": {
      "text/html": [
       "<div>\n",
       "<style scoped>\n",
       "    .dataframe tbody tr th:only-of-type {\n",
       "        vertical-align: middle;\n",
       "    }\n",
       "\n",
       "    .dataframe tbody tr th {\n",
       "        vertical-align: top;\n",
       "    }\n",
       "\n",
       "    .dataframe thead th {\n",
       "        text-align: right;\n",
       "    }\n",
       "</style>\n",
       "<table border=\"1\" class=\"dataframe\">\n",
       "  <thead>\n",
       "    <tr style=\"text-align: right;\">\n",
       "      <th></th>\n",
       "      <th>longitude</th>\n",
       "      <th>latitude</th>\n",
       "      <th>housing_median_age</th>\n",
       "      <th>total_rooms</th>\n",
       "      <th>total_bedrooms</th>\n",
       "      <th>population</th>\n",
       "      <th>households</th>\n",
       "      <th>median_income</th>\n",
       "      <th>median_house_value</th>\n",
       "      <th>city</th>\n",
       "      <th>postal_code</th>\n",
       "      <th>rooms_per_household</th>\n",
       "      <th>bedrooms_per_household</th>\n",
       "      <th>bedrooms_per_room</th>\n",
       "      <th>population_per_household</th>\n",
       "      <th>ocean_proximity_INLAND</th>\n",
       "      <th>ocean_proximity_&lt;1H OCEAN</th>\n",
       "      <th>ocean_proximity_NEAR BAY</th>\n",
       "      <th>ocean_proximity_NEAR OCEAN</th>\n",
       "      <th>ocean_proximity_ISLAND</th>\n",
       "    </tr>\n",
       "  </thead>\n",
       "  <tbody>\n",
       "    <tr>\n",
       "      <th>0</th>\n",
       "      <td>-122.23</td>\n",
       "      <td>37.88</td>\n",
       "      <td>41.0</td>\n",
       "      <td>880.0</td>\n",
       "      <td>129.0</td>\n",
       "      <td>322.0</td>\n",
       "      <td>126.0</td>\n",
       "      <td>8.3252</td>\n",
       "      <td>452600.0</td>\n",
       "      <td>69</td>\n",
       "      <td>94705</td>\n",
       "      <td>6.984127</td>\n",
       "      <td>1.023810</td>\n",
       "      <td>0.146591</td>\n",
       "      <td>2.555556</td>\n",
       "      <td>0</td>\n",
       "      <td>0</td>\n",
       "      <td>1</td>\n",
       "      <td>0</td>\n",
       "      <td>0</td>\n",
       "    </tr>\n",
       "    <tr>\n",
       "      <th>1</th>\n",
       "      <td>-122.22</td>\n",
       "      <td>37.86</td>\n",
       "      <td>21.0</td>\n",
       "      <td>7099.0</td>\n",
       "      <td>1106.0</td>\n",
       "      <td>2401.0</td>\n",
       "      <td>1138.0</td>\n",
       "      <td>8.3014</td>\n",
       "      <td>358500.0</td>\n",
       "      <td>620</td>\n",
       "      <td>94611</td>\n",
       "      <td>6.238137</td>\n",
       "      <td>0.971880</td>\n",
       "      <td>0.155797</td>\n",
       "      <td>2.109842</td>\n",
       "      <td>0</td>\n",
       "      <td>0</td>\n",
       "      <td>1</td>\n",
       "      <td>0</td>\n",
       "      <td>0</td>\n",
       "    </tr>\n",
       "    <tr>\n",
       "      <th>2</th>\n",
       "      <td>-122.24</td>\n",
       "      <td>37.85</td>\n",
       "      <td>52.0</td>\n",
       "      <td>1467.0</td>\n",
       "      <td>190.0</td>\n",
       "      <td>496.0</td>\n",
       "      <td>177.0</td>\n",
       "      <td>7.2574</td>\n",
       "      <td>352100.0</td>\n",
       "      <td>620</td>\n",
       "      <td>94618</td>\n",
       "      <td>8.288136</td>\n",
       "      <td>1.073446</td>\n",
       "      <td>0.129516</td>\n",
       "      <td>2.802260</td>\n",
       "      <td>0</td>\n",
       "      <td>0</td>\n",
       "      <td>1</td>\n",
       "      <td>0</td>\n",
       "      <td>0</td>\n",
       "    </tr>\n",
       "    <tr>\n",
       "      <th>3</th>\n",
       "      <td>-122.25</td>\n",
       "      <td>37.85</td>\n",
       "      <td>52.0</td>\n",
       "      <td>1274.0</td>\n",
       "      <td>235.0</td>\n",
       "      <td>558.0</td>\n",
       "      <td>219.0</td>\n",
       "      <td>5.6431</td>\n",
       "      <td>341300.0</td>\n",
       "      <td>620</td>\n",
       "      <td>94618</td>\n",
       "      <td>5.817352</td>\n",
       "      <td>1.073059</td>\n",
       "      <td>0.184458</td>\n",
       "      <td>2.547945</td>\n",
       "      <td>0</td>\n",
       "      <td>0</td>\n",
       "      <td>1</td>\n",
       "      <td>0</td>\n",
       "      <td>0</td>\n",
       "    </tr>\n",
       "    <tr>\n",
       "      <th>4</th>\n",
       "      <td>-122.25</td>\n",
       "      <td>37.85</td>\n",
       "      <td>52.0</td>\n",
       "      <td>1627.0</td>\n",
       "      <td>280.0</td>\n",
       "      <td>565.0</td>\n",
       "      <td>259.0</td>\n",
       "      <td>3.8462</td>\n",
       "      <td>342200.0</td>\n",
       "      <td>620</td>\n",
       "      <td>94618</td>\n",
       "      <td>6.281853</td>\n",
       "      <td>1.081081</td>\n",
       "      <td>0.172096</td>\n",
       "      <td>2.181467</td>\n",
       "      <td>0</td>\n",
       "      <td>0</td>\n",
       "      <td>1</td>\n",
       "      <td>0</td>\n",
       "      <td>0</td>\n",
       "    </tr>\n",
       "  </tbody>\n",
       "</table>\n",
       "</div>"
      ],
      "text/plain": [
       "   longitude  latitude  housing_median_age  total_rooms  total_bedrooms  \\\n",
       "0    -122.23     37.88                41.0        880.0           129.0   \n",
       "1    -122.22     37.86                21.0       7099.0          1106.0   \n",
       "2    -122.24     37.85                52.0       1467.0           190.0   \n",
       "3    -122.25     37.85                52.0       1274.0           235.0   \n",
       "4    -122.25     37.85                52.0       1627.0           280.0   \n",
       "\n",
       "   population  households  median_income  median_house_value  city  \\\n",
       "0       322.0       126.0         8.3252            452600.0    69   \n",
       "1      2401.0      1138.0         8.3014            358500.0   620   \n",
       "2       496.0       177.0         7.2574            352100.0   620   \n",
       "3       558.0       219.0         5.6431            341300.0   620   \n",
       "4       565.0       259.0         3.8462            342200.0   620   \n",
       "\n",
       "   postal_code  rooms_per_household  bedrooms_per_household  \\\n",
       "0        94705             6.984127                1.023810   \n",
       "1        94611             6.238137                0.971880   \n",
       "2        94618             8.288136                1.073446   \n",
       "3        94618             5.817352                1.073059   \n",
       "4        94618             6.281853                1.081081   \n",
       "\n",
       "   bedrooms_per_room  population_per_household  ocean_proximity_INLAND  \\\n",
       "0           0.146591                  2.555556                       0   \n",
       "1           0.155797                  2.109842                       0   \n",
       "2           0.129516                  2.802260                       0   \n",
       "3           0.184458                  2.547945                       0   \n",
       "4           0.172096                  2.181467                       0   \n",
       "\n",
       "   ocean_proximity_<1H OCEAN  ocean_proximity_NEAR BAY  \\\n",
       "0                          0                         1   \n",
       "1                          0                         1   \n",
       "2                          0                         1   \n",
       "3                          0                         1   \n",
       "4                          0                         1   \n",
       "\n",
       "   ocean_proximity_NEAR OCEAN  ocean_proximity_ISLAND  \n",
       "0                           0                       0  \n",
       "1                           0                       0  \n",
       "2                           0                       0  \n",
       "3                           0                       0  \n",
       "4                           0                       0  "
      ]
     },
     "execution_count": null,
     "metadata": {},
     "output_type": "execute_result"
    }
   ],
   "source": [
    "housing_data.head()"
   ]
  },
  {
   "cell_type": "code",
   "execution_count": null,
   "metadata": {},
   "outputs": [
    {
     "data": {
      "text/plain": [
       "(19443, 20)"
      ]
     },
     "execution_count": null,
     "metadata": {},
     "output_type": "execute_result"
    }
   ],
   "source": [
    "housing_data.shape"
   ]
  },
  {
   "cell_type": "code",
   "execution_count": null,
   "metadata": {},
   "outputs": [
    {
     "data": {
      "text/html": [
       "<div>\n",
       "<style scoped>\n",
       "    .dataframe tbody tr th:only-of-type {\n",
       "        vertical-align: middle;\n",
       "    }\n",
       "\n",
       "    .dataframe tbody tr th {\n",
       "        vertical-align: top;\n",
       "    }\n",
       "\n",
       "    .dataframe thead th {\n",
       "        text-align: right;\n",
       "    }\n",
       "</style>\n",
       "<table border=\"1\" class=\"dataframe\">\n",
       "  <thead>\n",
       "    <tr style=\"text-align: right;\">\n",
       "      <th></th>\n",
       "      <th>longitude</th>\n",
       "      <th>latitude</th>\n",
       "      <th>housing_median_age</th>\n",
       "      <th>total_rooms</th>\n",
       "      <th>total_bedrooms</th>\n",
       "      <th>population</th>\n",
       "      <th>households</th>\n",
       "      <th>median_income</th>\n",
       "      <th>median_house_value</th>\n",
       "      <th>city</th>\n",
       "      <th>postal_code</th>\n",
       "      <th>rooms_per_household</th>\n",
       "      <th>bedrooms_per_household</th>\n",
       "      <th>bedrooms_per_room</th>\n",
       "      <th>population_per_household</th>\n",
       "      <th>ocean_proximity_INLAND</th>\n",
       "      <th>ocean_proximity_&lt;1H OCEAN</th>\n",
       "      <th>ocean_proximity_NEAR BAY</th>\n",
       "      <th>ocean_proximity_NEAR OCEAN</th>\n",
       "      <th>ocean_proximity_ISLAND</th>\n",
       "    </tr>\n",
       "  </thead>\n",
       "  <tbody>\n",
       "    <tr>\n",
       "      <th>count</th>\n",
       "      <td>19443.000000</td>\n",
       "      <td>19443.000000</td>\n",
       "      <td>19443.000000</td>\n",
       "      <td>19443.000000</td>\n",
       "      <td>19443.000000</td>\n",
       "      <td>19443.000000</td>\n",
       "      <td>19443.000000</td>\n",
       "      <td>19443.000000</td>\n",
       "      <td>19443.000000</td>\n",
       "      <td>19443.000000</td>\n",
       "      <td>19443.000000</td>\n",
       "      <td>19443.000000</td>\n",
       "      <td>19443.000000</td>\n",
       "      <td>19443.000000</td>\n",
       "      <td>19443.000000</td>\n",
       "      <td>19443.000000</td>\n",
       "      <td>19443.000000</td>\n",
       "      <td>19443.000000</td>\n",
       "      <td>19443.000000</td>\n",
       "      <td>19443.000000</td>\n",
       "    </tr>\n",
       "    <tr>\n",
       "      <th>mean</th>\n",
       "      <td>-119.560363</td>\n",
       "      <td>35.646739</td>\n",
       "      <td>28.435118</td>\n",
       "      <td>2617.678548</td>\n",
       "      <td>538.136964</td>\n",
       "      <td>1442.129970</td>\n",
       "      <td>501.427352</td>\n",
       "      <td>3.675099</td>\n",
       "      <td>191793.406162</td>\n",
       "      <td>541.629224</td>\n",
       "      <td>93030.145605</td>\n",
       "      <td>5.340245</td>\n",
       "      <td>1.091741</td>\n",
       "      <td>0.214812</td>\n",
       "      <td>3.095953</td>\n",
       "      <td>0.331482</td>\n",
       "      <td>0.439953</td>\n",
       "      <td>0.106774</td>\n",
       "      <td>0.121535</td>\n",
       "      <td>0.000257</td>\n",
       "    </tr>\n",
       "    <tr>\n",
       "      <th>std</th>\n",
       "      <td>2.002697</td>\n",
       "      <td>2.145335</td>\n",
       "      <td>12.504584</td>\n",
       "      <td>2179.553070</td>\n",
       "      <td>420.168532</td>\n",
       "      <td>1140.254218</td>\n",
       "      <td>383.064222</td>\n",
       "      <td>1.569687</td>\n",
       "      <td>96775.724042</td>\n",
       "      <td>260.704512</td>\n",
       "      <td>1853.684352</td>\n",
       "      <td>2.190405</td>\n",
       "      <td>0.429728</td>\n",
       "      <td>0.056667</td>\n",
       "      <td>10.679036</td>\n",
       "      <td>0.470758</td>\n",
       "      <td>0.496394</td>\n",
       "      <td>0.308833</td>\n",
       "      <td>0.326756</td>\n",
       "      <td>0.016035</td>\n",
       "    </tr>\n",
       "    <tr>\n",
       "      <th>min</th>\n",
       "      <td>-124.350000</td>\n",
       "      <td>32.550000</td>\n",
       "      <td>1.000000</td>\n",
       "      <td>2.000000</td>\n",
       "      <td>2.000000</td>\n",
       "      <td>3.000000</td>\n",
       "      <td>2.000000</td>\n",
       "      <td>0.499900</td>\n",
       "      <td>14999.000000</td>\n",
       "      <td>1.000000</td>\n",
       "      <td>85344.000000</td>\n",
       "      <td>0.846154</td>\n",
       "      <td>0.333333</td>\n",
       "      <td>0.100000</td>\n",
       "      <td>0.750000</td>\n",
       "      <td>0.000000</td>\n",
       "      <td>0.000000</td>\n",
       "      <td>0.000000</td>\n",
       "      <td>0.000000</td>\n",
       "      <td>0.000000</td>\n",
       "    </tr>\n",
       "    <tr>\n",
       "      <th>25%</th>\n",
       "      <td>-121.760000</td>\n",
       "      <td>33.930000</td>\n",
       "      <td>18.000000</td>\n",
       "      <td>1438.500000</td>\n",
       "      <td>299.000000</td>\n",
       "      <td>799.000000</td>\n",
       "      <td>282.000000</td>\n",
       "      <td>2.526500</td>\n",
       "      <td>116700.000000</td>\n",
       "      <td>328.000000</td>\n",
       "      <td>91706.000000</td>\n",
       "      <td>4.412378</td>\n",
       "      <td>1.006140</td>\n",
       "      <td>0.177906</td>\n",
       "      <td>2.449692</td>\n",
       "      <td>0.000000</td>\n",
       "      <td>0.000000</td>\n",
       "      <td>0.000000</td>\n",
       "      <td>0.000000</td>\n",
       "      <td>0.000000</td>\n",
       "    </tr>\n",
       "    <tr>\n",
       "      <th>50%</th>\n",
       "      <td>-118.490000</td>\n",
       "      <td>34.260000</td>\n",
       "      <td>29.000000</td>\n",
       "      <td>2111.000000</td>\n",
       "      <td>436.000000</td>\n",
       "      <td>1181.000000</td>\n",
       "      <td>411.000000</td>\n",
       "      <td>3.446400</td>\n",
       "      <td>173400.000000</td>\n",
       "      <td>545.000000</td>\n",
       "      <td>92860.000000</td>\n",
       "      <td>5.180451</td>\n",
       "      <td>1.048276</td>\n",
       "      <td>0.204545</td>\n",
       "      <td>2.841155</td>\n",
       "      <td>0.000000</td>\n",
       "      <td>0.000000</td>\n",
       "      <td>0.000000</td>\n",
       "      <td>0.000000</td>\n",
       "      <td>0.000000</td>\n",
       "    </tr>\n",
       "    <tr>\n",
       "      <th>75%</th>\n",
       "      <td>-117.990000</td>\n",
       "      <td>37.730000</td>\n",
       "      <td>37.000000</td>\n",
       "      <td>3119.000000</td>\n",
       "      <td>644.000000</td>\n",
       "      <td>1746.500000</td>\n",
       "      <td>606.000000</td>\n",
       "      <td>4.579750</td>\n",
       "      <td>247100.000000</td>\n",
       "      <td>770.000000</td>\n",
       "      <td>94606.000000</td>\n",
       "      <td>5.963796</td>\n",
       "      <td>1.097701</td>\n",
       "      <td>0.240414</td>\n",
       "      <td>3.308208</td>\n",
       "      <td>1.000000</td>\n",
       "      <td>1.000000</td>\n",
       "      <td>0.000000</td>\n",
       "      <td>0.000000</td>\n",
       "      <td>0.000000</td>\n",
       "    </tr>\n",
       "    <tr>\n",
       "      <th>max</th>\n",
       "      <td>-114.310000</td>\n",
       "      <td>41.950000</td>\n",
       "      <td>52.000000</td>\n",
       "      <td>39320.000000</td>\n",
       "      <td>6445.000000</td>\n",
       "      <td>35682.000000</td>\n",
       "      <td>6082.000000</td>\n",
       "      <td>15.000100</td>\n",
       "      <td>499100.000000</td>\n",
       "      <td>977.000000</td>\n",
       "      <td>96161.000000</td>\n",
       "      <td>132.533333</td>\n",
       "      <td>34.066667</td>\n",
       "      <td>1.000000</td>\n",
       "      <td>1243.333333</td>\n",
       "      <td>1.000000</td>\n",
       "      <td>1.000000</td>\n",
       "      <td>1.000000</td>\n",
       "      <td>1.000000</td>\n",
       "      <td>1.000000</td>\n",
       "    </tr>\n",
       "  </tbody>\n",
       "</table>\n",
       "</div>"
      ],
      "text/plain": [
       "          longitude      latitude  housing_median_age   total_rooms  \\\n",
       "count  19443.000000  19443.000000        19443.000000  19443.000000   \n",
       "mean    -119.560363     35.646739           28.435118   2617.678548   \n",
       "std        2.002697      2.145335           12.504584   2179.553070   \n",
       "min     -124.350000     32.550000            1.000000      2.000000   \n",
       "25%     -121.760000     33.930000           18.000000   1438.500000   \n",
       "50%     -118.490000     34.260000           29.000000   2111.000000   \n",
       "75%     -117.990000     37.730000           37.000000   3119.000000   \n",
       "max     -114.310000     41.950000           52.000000  39320.000000   \n",
       "\n",
       "       total_bedrooms    population    households  median_income  \\\n",
       "count    19443.000000  19443.000000  19443.000000   19443.000000   \n",
       "mean       538.136964   1442.129970    501.427352       3.675099   \n",
       "std        420.168532   1140.254218    383.064222       1.569687   \n",
       "min          2.000000      3.000000      2.000000       0.499900   \n",
       "25%        299.000000    799.000000    282.000000       2.526500   \n",
       "50%        436.000000   1181.000000    411.000000       3.446400   \n",
       "75%        644.000000   1746.500000    606.000000       4.579750   \n",
       "max       6445.000000  35682.000000   6082.000000      15.000100   \n",
       "\n",
       "       median_house_value          city   postal_code  rooms_per_household  \\\n",
       "count        19443.000000  19443.000000  19443.000000         19443.000000   \n",
       "mean        191793.406162    541.629224  93030.145605             5.340245   \n",
       "std          96775.724042    260.704512   1853.684352             2.190405   \n",
       "min          14999.000000      1.000000  85344.000000             0.846154   \n",
       "25%         116700.000000    328.000000  91706.000000             4.412378   \n",
       "50%         173400.000000    545.000000  92860.000000             5.180451   \n",
       "75%         247100.000000    770.000000  94606.000000             5.963796   \n",
       "max         499100.000000    977.000000  96161.000000           132.533333   \n",
       "\n",
       "       bedrooms_per_household  bedrooms_per_room  population_per_household  \\\n",
       "count            19443.000000       19443.000000              19443.000000   \n",
       "mean                 1.091741           0.214812                  3.095953   \n",
       "std                  0.429728           0.056667                 10.679036   \n",
       "min                  0.333333           0.100000                  0.750000   \n",
       "25%                  1.006140           0.177906                  2.449692   \n",
       "50%                  1.048276           0.204545                  2.841155   \n",
       "75%                  1.097701           0.240414                  3.308208   \n",
       "max                 34.066667           1.000000               1243.333333   \n",
       "\n",
       "       ocean_proximity_INLAND  ocean_proximity_<1H OCEAN  \\\n",
       "count            19443.000000               19443.000000   \n",
       "mean                 0.331482                   0.439953   \n",
       "std                  0.470758                   0.496394   \n",
       "min                  0.000000                   0.000000   \n",
       "25%                  0.000000                   0.000000   \n",
       "50%                  0.000000                   0.000000   \n",
       "75%                  1.000000                   1.000000   \n",
       "max                  1.000000                   1.000000   \n",
       "\n",
       "       ocean_proximity_NEAR BAY  ocean_proximity_NEAR OCEAN  \\\n",
       "count              19443.000000                19443.000000   \n",
       "mean                   0.106774                    0.121535   \n",
       "std                    0.308833                    0.326756   \n",
       "min                    0.000000                    0.000000   \n",
       "25%                    0.000000                    0.000000   \n",
       "50%                    0.000000                    0.000000   \n",
       "75%                    0.000000                    0.000000   \n",
       "max                    1.000000                    1.000000   \n",
       "\n",
       "       ocean_proximity_ISLAND  \n",
       "count            19443.000000  \n",
       "mean                 0.000257  \n",
       "std                  0.016035  \n",
       "min                  0.000000  \n",
       "25%                  0.000000  \n",
       "50%                  0.000000  \n",
       "75%                  0.000000  \n",
       "max                  1.000000  "
      ]
     },
     "execution_count": null,
     "metadata": {},
     "output_type": "execute_result"
    }
   ],
   "source": [
    "housing_data.describe()"
   ]
  },
  {
   "cell_type": "markdown",
   "metadata": {},
   "source": [
    "We drop the two columns that contain categorical data with many categories. We could create extra columns for each categoriy but since there are many of them that would create a lot of extra features."
   ]
  },
  {
   "cell_type": "code",
   "execution_count": null,
   "metadata": {},
   "outputs": [],
   "source": [
    "housing_data.drop(['city', 'postal_code'], axis=1, inplace=True)"
   ]
  },
  {
   "cell_type": "markdown",
   "metadata": {},
   "source": [
    "Then we split the data into features and labels as usual:"
   ]
  },
  {
   "cell_type": "code",
   "execution_count": null,
   "metadata": {},
   "outputs": [],
   "source": [
    "X = housing_data.drop('median_house_value', axis=1)\n",
    "y = housing_data['median_house_value']\n",
    "feature_labels = X.columns"
   ]
  },
  {
   "cell_type": "markdown",
   "metadata": {},
   "source": [
    "#### Baseline\n",
    "First we train the a Random Forest with the settings we tuned in lesson 6 as a baseline for future model."
   ]
  },
  {
   "cell_type": "code",
   "execution_count": null,
   "metadata": {},
   "outputs": [],
   "source": [
    "rf = RandomForestRegressor(n_estimators=100, max_features='sqrt', n_jobs=-1, random_state=42)\n",
    "                             \n",
    "results = cross_validate(rf, X, y,\n",
    "                         cv=5,\n",
    "                         return_train_score=True,\n",
    "                         scoring='neg_root_mean_squared_error')\n",
    "rmse_full = -np.mean(results[\"test_score\"])"
   ]
  },
  {
   "cell_type": "markdown",
   "metadata": {},
   "source": [
    "We get an RMSE of roughly 60'000:"
   ]
  },
  {
   "cell_type": "code",
   "execution_count": null,
   "metadata": {},
   "outputs": [
    {
     "name": "stdout",
     "output_type": "stream",
     "text": [
      "RMSE: 60301.958010516806\n"
     ]
    }
   ],
   "source": [
    "print(f'RMSE: {rmse_full}')"
   ]
  },
  {
   "cell_type": "markdown",
   "metadata": {},
   "source": [
    "### Standardisation\n",
    "PCA works by finding new axis in the dataset that cover the most variance. Since variance is the average squared distance of each sample to the sample mean this depends on the scale of the feature. To illustrate this think of two columns that contain the height of the person measured in centimeter and meter. Although height described in these two columns are the same the variance will be 10'000 times larger in the centimeter column (100^2) and the standard deviation 100 times larger."
   ]
  },
  {
   "cell_type": "code",
   "execution_count": null,
   "metadata": {},
   "outputs": [],
   "source": [
    "rand_values = np.random.randn(1000)"
   ]
  },
  {
   "cell_type": "code",
   "execution_count": null,
   "metadata": {},
   "outputs": [
    {
     "data": {
      "text/plain": [
       "0.993002491123281"
      ]
     },
     "execution_count": null,
     "metadata": {},
     "output_type": "execute_result"
    }
   ],
   "source": [
    "rand_values.var()"
   ]
  },
  {
   "cell_type": "code",
   "execution_count": null,
   "metadata": {},
   "outputs": [
    {
     "data": {
      "text/plain": [
       "9930.024911232811"
      ]
     },
     "execution_count": null,
     "metadata": {},
     "output_type": "execute_result"
    }
   ],
   "source": [
    "(100*rand_values).var()"
   ]
  },
  {
   "cell_type": "markdown",
   "metadata": {},
   "source": [
    "For this reason it is important to scale the features such that they are comparable to each other. A common approach to do this is to transform the data such that the mean is zero and the standard deviation is one. The following formula achieves this:\n",
    "\n",
    "$x_{std}=\\frac{x_{old}-\\mu}{\\sigma}$\n",
    "\n",
    "Scikit-learn provides a function to do this for us called `StandardScaler`. We can do this in one line with the function `.fit_transform()`. Similar to the function `fit_predict()` it combines the process of fitting which means calculating the mean and standard deviation of the dataset and then transforming the data by applying the above described formula."
   ]
  },
  {
   "cell_type": "code",
   "execution_count": null,
   "metadata": {},
   "outputs": [],
   "source": [
    "X_std = StandardScaler().fit_transform(X)"
   ]
  },
  {
   "cell_type": "code",
   "execution_count": null,
   "metadata": {},
   "outputs": [
    {
     "data": {
      "text/plain": [
       "(19443, 17)"
      ]
     },
     "execution_count": null,
     "metadata": {},
     "output_type": "execute_result"
    }
   ],
   "source": [
    "X_std.shape"
   ]
  },
  {
   "cell_type": "markdown",
   "metadata": {},
   "source": [
    "We can see that the mean is zero (or close enough) and the standard deviation is one:"
   ]
  },
  {
   "cell_type": "code",
   "execution_count": null,
   "metadata": {},
   "outputs": [
    {
     "data": {
      "text/plain": [
       "array([-4.44386137e-16,  2.19854194e-15,  9.35549763e-17, -2.48505406e-17,\n",
       "       -1.02325755e-16,  7.74752147e-17, -1.24252703e-17, -1.46179650e-16,\n",
       "       -9.94021623e-17,  1.57874022e-16,  7.01662322e-17,  2.92359301e-17,\n",
       "        1.60797615e-16,  1.43256057e-16,  6.13954532e-17, -3.14286248e-17,\n",
       "        1.16943720e-17])"
      ]
     },
     "execution_count": null,
     "metadata": {},
     "output_type": "execute_result"
    }
   ],
   "source": [
    "X_std.mean(axis=0)"
   ]
  },
  {
   "cell_type": "code",
   "execution_count": null,
   "metadata": {},
   "outputs": [
    {
     "data": {
      "text/plain": [
       "array([1., 1., 1., 1., 1., 1., 1., 1., 1., 1., 1., 1., 1., 1., 1., 1., 1.])"
      ]
     },
     "execution_count": null,
     "metadata": {},
     "output_type": "execute_result"
    }
   ],
   "source": [
    "X_std.std(axis=0)"
   ]
  },
  {
   "cell_type": "markdown",
   "metadata": {},
   "source": [
    "### Principal component analysis"
   ]
  },
  {
   "cell_type": "markdown",
   "metadata": {},
   "source": [
    "Now we apply principal component analysis to the standardised features. After initialising a `PCA` object we can use the `.fit_transform()` to find the principal components and then transform the dataset into these new coordinates."
   ]
  },
  {
   "cell_type": "code",
   "execution_count": null,
   "metadata": {},
   "outputs": [],
   "source": [
    "pca = PCA()"
   ]
  },
  {
   "cell_type": "code",
   "execution_count": null,
   "metadata": {},
   "outputs": [],
   "source": [
    "X_pca = pca.fit_transform(X_std)"
   ]
  },
  {
   "cell_type": "markdown",
   "metadata": {},
   "source": [
    "We can see that the transformed dataset still has the same shape. However the columns are no longer the features but the coordinates in the new principal component coordinates."
   ]
  },
  {
   "cell_type": "code",
   "execution_count": null,
   "metadata": {},
   "outputs": [
    {
     "data": {
      "text/plain": [
       "(19443, 17)"
      ]
     },
     "execution_count": null,
     "metadata": {},
     "output_type": "execute_result"
    }
   ],
   "source": [
    "X_pca.shape"
   ]
  },
  {
   "cell_type": "markdown",
   "metadata": {},
   "source": [
    "#### Explained variance\n",
    "The explained variance is an important concept in principal component analysis. It tells us how much variance of the whole dataset is contained along one principal component axis. The component with the more variation can encode more information than features with little variation. The explained variance is stored in the `pca` object and we can use it to visualise the distribution. The `explained_variance_ratio_` tells us the percentage of variance each component contains from the total variance."
   ]
  },
  {
   "cell_type": "code",
   "execution_count": null,
   "metadata": {},
   "outputs": [
    {
     "data": {
      "text/plain": [
       "array([3.94679876e+00, 2.68971697e+00, 2.16161002e+00, 1.71355307e+00,\n",
       "       1.34856094e+00, 1.23429506e+00, 1.00849199e+00, 9.99279680e-01,\n",
       "       7.61319709e-01, 6.23409242e-01, 2.78021666e-01, 1.28015586e-01,\n",
       "       4.51537583e-02, 2.55143813e-02, 2.15155286e-02, 1.56180392e-02,\n",
       "       1.72630262e-31])"
      ]
     },
     "execution_count": null,
     "metadata": {},
     "output_type": "execute_result"
    }
   ],
   "source": [
    "pca.explained_variance_ratio_"
   ]
  },
  {
   "cell_type": "code",
   "execution_count": null,
   "metadata": {},
   "outputs": [],
   "source": [
    "pca_labels = [f'principal component {i+1}' for i in range(len(pca.explained_variance_ratio_))]"
   ]
  },
  {
   "cell_type": "code",
   "execution_count": null,
   "metadata": {},
   "outputs": [
    {
     "data": {
      "image/png": "[encoded data removed]",
      "text/plain": [
       "<Figure size 432x288 with 1 Axes>"
      ]
     },
     "metadata": {},
     "output_type": "display_data"
    }
   ],
   "source": [
    "barplot = sns.barplot(x=pca_label, y=pca.explained_variance_ratio_)\n",
    "barplot.set_xticklabels(pca_label, rotation=90)\n",
    "plt.title('explained variance ratio')\n",
    "plt.show()"
   ]
  },
  {
   "cell_type": "markdown",
   "metadata": {},
   "source": [
    "We can see that already the first three components together account for 50% of the total variance in the dataset. We can visualise this more systematically by plotting the cumulative sum of the explained variance rations:"
   ]
  },
  {
   "cell_type": "code",
   "execution_count": null,
   "metadata": {},
   "outputs": [
    {
     "data": {
      "image/png": "[encoded data removed]",
      "text/plain": [
       "<Figure size 432x288 with 1 Axes>"
      ]
     },
     "metadata": {},
     "output_type": "display_data"
    }
   ],
   "source": [
    "sns.lineplot(np.arange(len(pca.explained_variance_ratio_)), np.cumsum(pca.explained_variance_ratio_))\n",
    "plt.ylabel('total explained variance')\n",
    "plt.xlabel('number of included PCA components')\n",
    "plt.show()"
   ]
  },
  {
   "cell_type": "markdown",
   "metadata": {},
   "source": [
    "We see that with 7 of the 17 axis we already explain 90% percent of the variance in the dataset and that after 10 we almost reach 100%. That means the components 10-17 probably don't contain much information and can be discarded."
   ]
  },
  {
   "cell_type": "markdown",
   "metadata": {},
   "source": [
    "#### PCA vector composition\n",
    "Naturally, we would like to know what these principal components mean. For example the first component contains 25% of the total variance. What information is stored in that component? The `pca` object also contains the `components_` which define the transformation between the original dataset and the transformed  one. We can print a few of the components and interpret them:"
   ]
  },
  {
   "cell_type": "code",
   "execution_count": null,
   "metadata": {},
   "outputs": [],
   "source": [
    "def print_tabluar(labels, values):\n",
    "    df = pd.DataFrame(data=values, columns=labels)\n",
    "    display(df.T)"
   ]
  },
  {
   "cell_type": "code",
   "execution_count": null,
   "metadata": {},
   "outputs": [
    {
     "name": "stdout",
     "output_type": "stream",
     "text": [
      "The first three principal components:\n"
     ]
    },
    {
     "data": {
      "text/html": [
       "<div>\n",
       "<style scoped>\n",
       "    .dataframe tbody tr th:only-of-type {\n",
       "        vertical-align: middle;\n",
       "    }\n",
       "\n",
       "    .dataframe tbody tr th {\n",
       "        vertical-align: top;\n",
       "    }\n",
       "\n",
       "    .dataframe thead th {\n",
       "        text-align: right;\n",
       "    }\n",
       "</style>\n",
       "<table border=\"1\" class=\"dataframe\">\n",
       "  <thead>\n",
       "    <tr style=\"text-align: right;\">\n",
       "      <th></th>\n",
       "      <th>0</th>\n",
       "      <th>1</th>\n",
       "      <th>2</th>\n",
       "    </tr>\n",
       "  </thead>\n",
       "  <tbody>\n",
       "    <tr>\n",
       "      <th>longitude</th>\n",
       "      <td>0.096240</td>\n",
       "      <td>-0.440492</td>\n",
       "      <td>0.279899</td>\n",
       "    </tr>\n",
       "    <tr>\n",
       "      <th>latitude</th>\n",
       "      <td>-0.093538</td>\n",
       "      <td>0.511034</td>\n",
       "      <td>-0.231581</td>\n",
       "    </tr>\n",
       "    <tr>\n",
       "      <th>housing_median_age</th>\n",
       "      <td>-0.228990</td>\n",
       "      <td>-0.102574</td>\n",
       "      <td>-0.203651</td>\n",
       "    </tr>\n",
       "    <tr>\n",
       "      <th>total_rooms</th>\n",
       "      <td>0.480823</td>\n",
       "      <td>0.110303</td>\n",
       "      <td>0.003569</td>\n",
       "    </tr>\n",
       "    <tr>\n",
       "      <th>total_bedrooms</th>\n",
       "      <td>0.481068</td>\n",
       "      <td>0.046098</td>\n",
       "      <td>-0.114091</td>\n",
       "    </tr>\n",
       "    <tr>\n",
       "      <th>population</th>\n",
       "      <td>0.466057</td>\n",
       "      <td>-0.002745</td>\n",
       "      <td>-0.121771</td>\n",
       "    </tr>\n",
       "    <tr>\n",
       "      <th>households</th>\n",
       "      <td>0.482901</td>\n",
       "      <td>0.023411</td>\n",
       "      <td>-0.149648</td>\n",
       "    </tr>\n",
       "    <tr>\n",
       "      <th>median_income</th>\n",
       "      <td>0.083829</td>\n",
       "      <td>0.066170</td>\n",
       "      <td>0.381905</td>\n",
       "    </tr>\n",
       "    <tr>\n",
       "      <th>rooms_per_household</th>\n",
       "      <td>0.029542</td>\n",
       "      <td>0.299368</td>\n",
       "      <td>0.519937</td>\n",
       "    </tr>\n",
       "    <tr>\n",
       "      <th>bedrooms_per_household</th>\n",
       "      <td>0.006354</td>\n",
       "      <td>0.204508</td>\n",
       "      <td>0.343374</td>\n",
       "    </tr>\n",
       "    <tr>\n",
       "      <th>bedrooms_per_room</th>\n",
       "      <td>-0.029537</td>\n",
       "      <td>-0.230823</td>\n",
       "      <td>-0.379778</td>\n",
       "    </tr>\n",
       "    <tr>\n",
       "      <th>population_per_household</th>\n",
       "      <td>-0.002497</td>\n",
       "      <td>-0.003664</td>\n",
       "      <td>0.003476</td>\n",
       "    </tr>\n",
       "    <tr>\n",
       "      <th>ocean_proximity_INLAND</th>\n",
       "      <td>-0.010714</td>\n",
       "      <td>0.326173</td>\n",
       "      <td>0.037222</td>\n",
       "    </tr>\n",
       "    <tr>\n",
       "      <th>ocean_proximity_&lt;1H OCEAN</th>\n",
       "      <td>0.054867</td>\n",
       "      <td>-0.404136</td>\n",
       "      <td>0.152350</td>\n",
       "    </tr>\n",
       "    <tr>\n",
       "      <th>ocean_proximity_NEAR BAY</th>\n",
       "      <td>-0.067325</td>\n",
       "      <td>0.233822</td>\n",
       "      <td>-0.269103</td>\n",
       "    </tr>\n",
       "    <tr>\n",
       "      <th>ocean_proximity_NEAR OCEAN</th>\n",
       "      <td>-0.003977</td>\n",
       "      <td>-0.076523</td>\n",
       "      <td>-0.030817</td>\n",
       "    </tr>\n",
       "    <tr>\n",
       "      <th>ocean_proximity_ISLAND</th>\n",
       "      <td>-0.006251</td>\n",
       "      <td>-0.009071</td>\n",
       "      <td>0.001835</td>\n",
       "    </tr>\n",
       "  </tbody>\n",
       "</table>\n",
       "</div>"
      ],
      "text/plain": [
       "                                   0         1         2\n",
       "longitude                   0.096240 -0.440492  0.279899\n",
       "latitude                   -0.093538  0.511034 -0.231581\n",
       "housing_median_age         -0.228990 -0.102574 -0.203651\n",
       "total_rooms                 0.480823  0.110303  0.003569\n",
       "total_bedrooms              0.481068  0.046098 -0.114091\n",
       "population                  0.466057 -0.002745 -0.121771\n",
       "households                  0.482901  0.023411 -0.149648\n",
       "median_income               0.083829  0.066170  0.381905\n",
       "rooms_per_household         0.029542  0.299368  0.519937\n",
       "bedrooms_per_household      0.006354  0.204508  0.343374\n",
       "bedrooms_per_room          -0.029537 -0.230823 -0.379778\n",
       "population_per_household   -0.002497 -0.003664  0.003476\n",
       "ocean_proximity_INLAND     -0.010714  0.326173  0.037222\n",
       "ocean_proximity_<1H OCEAN   0.054867 -0.404136  0.152350\n",
       "ocean_proximity_NEAR BAY   -0.067325  0.233822 -0.269103\n",
       "ocean_proximity_NEAR OCEAN -0.003977 -0.076523 -0.030817\n",
       "ocean_proximity_ISLAND     -0.006251 -0.009071  0.001835"
      ]
     },
     "metadata": {},
     "output_type": "display_data"
    }
   ],
   "source": [
    "print('The first three principal components:')\n",
    "print_tabluar(feature_labels, pca.components_[:3])"
   ]
  },
  {
   "cell_type": "markdown",
   "metadata": {},
   "source": [
    "The way to read this table is to think of it as a recipe to construct the first three principal components coordinates from the original features. Given a new datapoint we can for example calculate the first principal component by multiplying the longitude by the value in column `0` plus the latitude multiplied by the corresponding value in column `0` etc.. This weighted some of the original featuers will yield the first coordinate in the PCA coordinate system.\n",
    "\n",
    "From this we can see that the first component mainly consists of the three features `total_rooms`, `total_bedrooms`, and `households`."
   ]
  },
  {
   "cell_type": "markdown",
   "metadata": {},
   "source": [
    "#### Visualisation\n",
    "We can now use the principle components to visualise the data. We have a closer look at the first two components."
   ]
  },
  {
   "cell_type": "code",
   "execution_count": null,
   "metadata": {},
   "outputs": [
    {
     "data": {
      "text/plain": [
       "<matplotlib.axes._subplots.AxesSubplot at 0x1502dfa58>"
      ]
     },
     "execution_count": null,
     "metadata": {},
     "output_type": "execute_result"
    },
    {
     "data": {
      "image/png": "[encoded data removed]",
      "text/plain": [
       "<Figure size 432x288 with 1 Axes>"
      ]
     },
     "metadata": {},
     "output_type": "display_data"
    }
   ],
   "source": [
    "sns.scatterplot(X_pca[:,0], X_pca[:,1], alpha=0.1)"
   ]
  },
  {
   "cell_type": "code",
   "execution_count": null,
   "metadata": {},
   "outputs": [
    {
     "data": {
      "text/plain": [
       "<seaborn.axisgrid.JointGrid at 0x13ff07ba8>"
      ]
     },
     "execution_count": null,
     "metadata": {},
     "output_type": "execute_result"
    },
    {
     "data": {
      "image/png": "[encoded data removed]",
      "text/plain": [
       "<Figure size 432x432 with 3 Axes>"
      ]
     },
     "metadata": {},
     "output_type": "display_data"
    }
   ],
   "source": [
    "jplot = sns.jointplot(X_pca[:,0],  X_pca[:,1], kind=\"hex\", color=\"#4CB391\",xlim=[-5,10], ylim=[-5,10])\n",
    "jplot.set_axis_labels('Principal component 1', 'Principal component 2')"
   ]
  },
  {
   "cell_type": "markdown",
   "metadata": {},
   "source": [
    "We observe that there seem to be two visible clusters along these two axis. We could now investigate these clusters further and might find some property of the dataset that might be useful to us or our customer."
   ]
  },
  {
   "cell_type": "markdown",
   "metadata": {},
   "source": [
    "#### Correlations\n",
    "One interesting property to observe is that PCA removes all correlations from the features, such that each feature is independant."
   ]
  },
  {
   "cell_type": "code",
   "execution_count": null,
   "metadata": {},
   "outputs": [
    {
     "data": {
      "text/plain": [
       "<matplotlib.axes._subplots.AxesSubplot at 0x13bdaafd0>"
      ]
     },
     "execution_count": null,
     "metadata": {},
     "output_type": "execute_result"
    },
    {
     "data": {
      "image/png": "[encoded data removed]",
      "text/plain": [
       "<Figure size 432x288 with 2 Axes>"
      ]
     },
     "metadata": {},
     "output_type": "display_data"
    }
   ],
   "source": [
    "sns.heatmap(pd.DataFrame(data=X_std, columns=feature_labels).corr())"
   ]
  },
  {
   "cell_type": "code",
   "execution_count": null,
   "metadata": {},
   "outputs": [
    {
     "data": {
      "text/plain": [
       "<matplotlib.axes._subplots.AxesSubplot at 0x13bde2a58>"
      ]
     },
     "execution_count": null,
     "metadata": {},
     "output_type": "execute_result"
    },
    {
     "data": {
      "image/png": "[encoded data removed]",
      "text/plain": [
       "<Figure size 432x288 with 2 Axes>"
      ]
     },
     "metadata": {},
     "output_type": "display_data"
    }
   ],
   "source": [
    "sns.heatmap(pd.DataFrame(data=X_pca, columns=pca_label).corr())"
   ]
  },
  {
   "cell_type": "markdown",
   "metadata": {},
   "source": [
    "#### Compressed model\n",
    "Now we want to use PCA to build a model that is more compact than the model that utilizes all features. We add one principal component after the other and measure how well a Random Forest performs with this subset of features. We do this in our standard cross-validation loop."
   ]
  },
  {
   "cell_type": "code",
   "execution_count": null,
   "metadata": {},
   "outputs": [
    {
     "name": "stderr",
     "output_type": "stream",
     "text": [
      "100%|██████████| 17/17 [04:08<00:00, 14.61s/it]\n"
     ]
    }
   ],
   "source": [
    "rmse_valid =[]\n",
    "for i in tqdm(range(1, 18)):\n",
    "    rf = RandomForestRegressor(n_estimators=100, max_features='sqrt', n_jobs=-1, random_state=42)\n",
    "                             \n",
    "    results = cross_validate(rf, X_pca[:, :i], y, cv=5,\n",
    "                             return_train_score=True,\n",
    "                             scoring='neg_root_mean_squared_error')\n",
    "    rmse_valid.append(-np.mean(results[\"test_score\"]))"
   ]
  },
  {
   "cell_type": "markdown",
   "metadata": {},
   "source": [
    "As an additional baseline we also create a median regressor:"
   ]
  },
  {
   "cell_type": "code",
   "execution_count": null,
   "metadata": {},
   "outputs": [],
   "source": [
    "rmse_median = rmse(y, [np.median(y)]*len(y))"
   ]
  },
  {
   "cell_type": "markdown",
   "metadata": {},
   "source": [
    "Now we can plot the performances with the full Random Forest and the median regresssor as baselines for all subsets of components."
   ]
  },
  {
   "cell_type": "code",
   "execution_count": null,
   "metadata": {},
   "outputs": [
    {
     "data": {
      "text/plain": [
       "Text(0, 0.5, 'RMSE')"
      ]
     },
     "execution_count": null,
     "metadata": {},
     "output_type": "execute_result"
    },
    {
     "data": {
      "image/png": "[encoded data removed]",
      "text/plain": [
       "<Figure size 432x288 with 1 Axes>"
      ]
     },
     "metadata": {},
     "output_type": "display_data"
    }
   ],
   "source": [
    "lineplot = sns.lineplot(np.arange(len(rmse_valid))+1 , rmse_valid, label='pca')\n",
    "lineplot.axhline(rmse_median, c='y', linestyle='--', label='median')\n",
    "lineplot.axhline(rmse_full, c='r', linestyle='--', label='full model')\n",
    "plt.legend(loc='best')\n",
    "plt.xlabel('number of PCA components')\n",
    "plt.ylabel('RMSE')"
   ]
  },
  {
   "cell_type": "markdown",
   "metadata": {},
   "source": [
    "So we can see that already with 4-7 principal components we get results that are quite close to the full model. As mentioned previously this has two advantages:\n",
    "1. Visualising a 4 components is still hard but feasable compared to 17\n",
    "2. Training a Random forest with half the features is twice as fast for training and inference.\n",
    "\n",
    "Looking at the graph we see that there are several steep steps. It seems that adding thses components improved the performance significantly. By taking the components with the biggest steps we can try to build a better selection of features:"
   ]
  },
  {
   "cell_type": "code",
   "execution_count": null,
   "metadata": {},
   "outputs": [],
   "source": [
    "features = [0,1,3,6,10]"
   ]
  },
  {
   "cell_type": "code",
   "execution_count": null,
   "metadata": {},
   "outputs": [],
   "source": [
    "rf = RandomForestRegressor(n_estimators=100, max_features='sqrt', n_jobs=-1, random_state=42)\n",
    "                             \n",
    "results = cross_validate(rf, X_pca[:, features], y, cv=5,\n",
    "                         return_train_score=True,\n",
    "                         scoring='neg_root_mean_squared_error')\n",
    "rmse_pca = -np.mean(results[\"test_score\"])"
   ]
  },
  {
   "cell_type": "code",
   "execution_count": null,
   "metadata": {},
   "outputs": [
    {
     "data": {
      "text/plain": [
       "64700.242256282574"
      ]
     },
     "execution_count": null,
     "metadata": {},
     "output_type": "execute_result"
    }
   ],
   "source": [
    "rmse_pca"
   ]
  },
  {
   "cell_type": "markdown",
   "metadata": {},
   "source": [
    "Just with 5 of 17 features we get <10% of the model that used all features. This model is 3-4 times faster to train and to make predictions. In practice there are more systematic ways of finding the best subset of features such as *forward* and *backward selection*."
   ]
  },
  {
   "cell_type": "markdown",
   "metadata": {},
   "source": [
    "## Part 2: The mapper algorithm"
   ]
  },
  {
   "cell_type": "code",
   "execution_count": null,
   "metadata": {},
   "outputs": [],
   "source": []
  }
 ],
 "metadata": {
  "kernelspec": {
   "display_name": "Python 3",
   "language": "python",
   "name": "python3"
  }
 },
 "nbformat": 4,
 "nbformat_minor": 4
}
