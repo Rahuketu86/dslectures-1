{
 "cells": [
  {
   "cell_type": "markdown",
   "metadata": {},
   "source": [
    "# Polls for Slack\n",
    "\n",
    "> In-class quizzes to reinforce key concepts. Ensure that [Simple Poll](https://simplepoll.rocks/) is installed in the Slack workspace."
   ]
  },
  {
   "cell_type": "markdown",
   "metadata": {},
   "source": [
    "## Lesson 2"
   ]
  },
  {
   "cell_type": "markdown",
   "metadata": {},
   "source": [
    "/poll “Will this customer purchase service S1 if given incentive I?” “Regression” “Classification” anonymous\n",
    "\n",
    "> This is a classification problem because it has a binary target (the customer either purchases or does not)."
   ]
  },
  {
   "cell_type": "markdown",
   "metadata": {},
   "source": [
    "/poll “Which service package (S1, S2, or none) will a customer likely purchase if given incentive I?” “Classification” “Regression” anonymous\n",
    "\n",
    "> This is also a classification problem, with a three-valued target."
   ]
  },
  {
   "cell_type": "markdown",
   "metadata": {},
   "source": [
    "/poll “How much will this customer use the service?” “Regression” “Classification” anonymous\n",
    "\n",
    "> This is a regression problem because it has a numeric target. The target variable is the amount of usage (actual or predicted) per customer."
   ]
  },
  {
   "cell_type": "markdown",
   "metadata": {},
   "source": [
    "## Lesson 3"
   ]
  },
  {
   "cell_type": "markdown",
   "metadata": {},
   "source": [
    "/poll “We can build unsupervised machine learning models when we lack labels for the target variables.” “True” “False” anonymous\n",
    "\n",
    "> True"
   ]
  },
  {
   "cell_type": "markdown",
   "metadata": {},
   "source": [
    "/poll “Finding the most profitable customer is an example of an unsupervised learning task.” “True” “False” anonymous\n",
    "\n",
    "> False"
   ]
  },
  {
   "cell_type": "markdown",
   "metadata": {},
   "source": [
    "/poll “Which of the following is not a reason why data science technologies are attracting significant attention\n",
    "nowadays?” “There is too much data for manual analysis” “Data are difficult to transfer from databases” “Data can be a resource for competitive advantage” “Machine learning algorithms are easily available” anonymous\n",
    "\n",
    "> Data are difficult to transfer from databases"
   ]
  },
  {
   "cell_type": "markdown",
   "metadata": {},
   "source": [
    "## Lesson 4"
   ]
  },
  {
   "cell_type": "markdown",
   "metadata": {},
   "source": [
    "/poll \"Which of the following would you choose when deciding on a measure of central tendency for a data set\n",
    "that contains outliers?\" \"The median\" \"The mean\" \"The average of the largest and smallest values in the data set\" \"The standard deviation\" anonymous\n",
    "\n",
    "> The median"
   ]
  },
  {
   "cell_type": "markdown",
   "metadata": {},
   "source": [
    "/poll \"Complete the sentence: The Pearson correlation coefficient ranges from ...\" \"0 to 1 and describes the linear correlation between two variables\" \" 0 to 1 and describes how close a set of numbers is to being normally distributed\" \"-1 to 1 and describes the linear correlation between two variables\" \"-1 to 1 and describes how similar the values in a single data set are to each other\" anonymous\n",
    "\n",
    "> -1 to 1 and describes the linear correlation between two variables"
   ]
  },
  {
   "cell_type": "markdown",
   "metadata": {},
   "source": [
    "/poll \"Which of these organizations would have the most challenge in applying supervised learning?\" \"A university that wants to start a new degree program in data science, and would like to estimate the likely number of applicants.\" \"A grocery store that is trying to identify which of its loyalty-card-carrying customers will spend more than $100 next month.\" \"A city government that is trying to predict which neighborhoods will see the most new busi- nesses open up next quarter.\" \"An online marketing company that wants to estimate the number of clicks that the ads it serves will receive when shown to a particular population.\" anonymous\n",
    "\n",
    "> A university that wants to start a new degree program in data science, and would like to estimate the likely number of applicants."
   ]
  },
  {
   "cell_type": "code",
   "execution_count": null,
   "metadata": {},
   "outputs": [],
   "source": []
  }
 ],
 "metadata": {
  "kernelspec": {
   "display_name": "Python 3",
   "language": "python",
   "name": "python3"
  }
 },
 "nbformat": 4,
 "nbformat_minor": 4
}
